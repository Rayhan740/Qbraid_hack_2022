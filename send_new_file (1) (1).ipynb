{
 "cells": [
  {
   "cell_type": "code",
   "execution_count": 7,
   "id": "afraid-joint",
   "metadata": {},
   "outputs": [],
   "source": [
    "from PIL import Image\n",
    "from matplotlib import style\n",
    "import matplotlib.pyplot as plt\n",
    "import numpy as np\n",
    "from qiskit.quantum_info import Statevector\n",
    "from qiskit.visualization import array_to_latex\n",
    "from qiskit import * \n",
    "from math import log2"
   ]
  },
  {
   "cell_type": "code",
   "execution_count": 8,
   "id": "9caf9e36-1d9c-4fc4-9b8e-f6a4f0ecc59a",
   "metadata": {},
   "outputs": [
    {
     "name": "stdout",
     "output_type": "stream",
     "text": [
      "Traceback \u001b[1;36m(most recent call last)\u001b[0m:\n",
      "\u001b[1;36m  Input \u001b[1;32mIn [8]\u001b[1;36m in \u001b[1;35m<cell line: 85>\u001b[1;36m\u001b[0m\n",
      "\u001b[1;33m    l.append(divided_image)\u001b[0m\n",
      "\u001b[1;31mNameError\u001b[0m\u001b[1;31m:\u001b[0m name 'l' is not defined\n",
      "\n",
      "Use %tb to get the full traceback.\n"
     ]
    },
    {
     "data": {
      "text/html": [
       "\n",
       "<style>\n",
       ".button {\n",
       "  border: none;\n",
       "  color: white;\n",
       "  padding: 4px 8px;\n",
       "  text-align: center;\n",
       "  text-decoration: none;\n",
       "  display: inline-block;\n",
       "  font-size: 12px;\n",
       "  margin: 4px 2px;\n",
       "  transition-duration: 0.2s;\n",
       "  cursor: pointer;\n",
       "}\n",
       ".iqx-button {\n",
       "  background-color: #0f62fe; \n",
       "  color: white; \n",
       "}\n",
       ".iqx-button:hover {\n",
       "  background-color: #0043ce;\n",
       "  color: white;\n",
       "}\n",
       "</style>\n",
       "<a href=\"https://stackoverflow.com/search?q=NameError: name 'l' is not defined\" target='_blank'><button class='button iqx-button'>Search for solution online</button></a>\n"
      ],
      "text/plain": [
       "<IPython.core.display.HTML object>"
      ]
     },
     "metadata": {},
     "output_type": "display_data"
    }
   ],
   "source": [
    "def amplitude_encode(img_data):\n",
    "    rms = np.sqrt(np.sum(img_data**2))\n",
    "    \n",
    "    image_norm = []\n",
    "    for arr in img_data:\n",
    "        for ele in arr:\n",
    "            image_norm.append(ele/rms)\n",
    "            \n",
    "    return np.array(image_norm)\n",
    "\n",
    "def QHED(image, size):\n",
    "    image_norm_h = amplitude_encode(image)\n",
    "    image_norm_v = amplitude_encode(image.T)\n",
    "    \n",
    "    data_qb = int(log2(size*size))\n",
    "    anc_qb = 1\n",
    "    \n",
    "    total_qb = data_qb + anc_qb\n",
    "    D2n_1 = np.roll(np.identity(2**total_qb), 1, axis=1)\n",
    "\n",
    "    qc_h = QuantumCircuit(total_qb)\n",
    "    qc_h.initialize(image_norm_h, range(1, total_qb))\n",
    "    qc_h.h(0)\n",
    "    qc_h.unitary(D2n_1, range(total_qb))\n",
    "    qc_h.h(0)\n",
    "    \n",
    "    qc_v = QuantumCircuit(total_qb)\n",
    "    qc_v.initialize(image_norm_v, range(1, total_qb))\n",
    "    qc_v.h(0)\n",
    "    qc_v.unitary(D2n_1, range(total_qb))\n",
    "    qc_v.h(0)\n",
    "    \n",
    "    circ_list = [qc_h, qc_v]\n",
    "    back = Aer.get_backend('statevector_simulator')\n",
    "    results = execute(circ_list, backend=back).result()\n",
    "    sv_h = results.get_statevector(qc_h)\n",
    "    sv_v = results.get_statevector(qc_v)\n",
    "    \n",
    "    threshold = lambda amp: (amp > 1e-15 or amp < -1e-15)\n",
    "\n",
    "    edge_scan_h = np.abs(np.array([1 if threshold(sv_h[2*i+1].real) else 0 for i in range(2**data_qb)])).reshape(w, w)\n",
    "    edge_scan_v = np.abs(np.array([1 if threshold(sv_v[2*i+1].real) else 0 for i in range(2**data_qb)])).reshape(w, w).T\n",
    "    \n",
    "    edge_scan_sim = edge_scan_h + edge_scan_v\n",
    "    \n",
    "    return np.array(edge_scan_sim)\n",
    "\n",
    "def divided_image_QHED(tiles, index, w):\n",
    "    divided_image = np.array(tiles[index])\n",
    "    divided_image = QHED(divided_image, w)\n",
    "    \n",
    "    return np.array(divided_image)\n",
    "\n",
    "\n",
    "def plot_image(img, title: str):\n",
    "    plt.title(title)\n",
    "    plt.xticks(range(img.shape[0]))\n",
    "    plt.yticks(range(img.shape[1]))\n",
    "    plt.imshow(img, extent=[0, img.shape[0], img.shape[1], 0], cmap='viridis')\n",
    "    plt.show()\n",
    "\n",
    "   \n",
    "    \n",
    "# style.use('default')\n",
    "style.use('default')\n",
    "\n",
    "image_size = 256\n",
    "w = 8\n",
    "\n",
    "im = Image.open('image.png')\n",
    "image_raw = np.array(im)\n",
    "\n",
    "image = im.convert('L')\n",
    "image = np.array(image)\n",
    "for arr in image:\n",
    "    for i in range(len(arr)):\n",
    "        if arr[i] == False:\n",
    "            arr[i] = 1\n",
    "        else:\n",
    "            arr[i] = 0\n",
    "\n",
    "tiles = [image[x:x+w,y:y+w] for x in range(0,image.shape[0],w) for y in range(0,image.shape[1],w)]\n",
    "\n",
    "\n",
    "for i in range(w*w):\n",
    "    divided_image = divided_image_QHED(tiles, i, w)\n",
    "    l.append(divided_image)\n",
    "\n",
    "#Now from the divided Images, we can extract the data and save it in a folder to send it via teleportation\n",
    "#The receiver who is going to receive the data has to reverse compute the QHED and merge the images in order\n",
    "#to get the original image"
   ]
  },
  {
   "cell_type": "code",
   "execution_count": 4,
   "id": "5a4c3944-f2d6-4d3b-a810-a76a0441f87d",
   "metadata": {},
   "outputs": [
    {
     "name": "stdout",
     "output_type": "stream",
     "text": [
      "Traceback \u001b[1;36m(most recent call last)\u001b[0m:\n",
      "\u001b[1;36m  Input \u001b[1;32mIn [4]\u001b[1;36m in \u001b[1;35m<cell line: 2>\u001b[1;36m\u001b[0m\n",
      "\u001b[1;33m    results = execute(circ_list, backend=back).result()\u001b[0m\n",
      "\u001b[1;31mNameError\u001b[0m\u001b[1;31m:\u001b[0m name 'circ_list' is not defined\n",
      "\n",
      "Use %tb to get the full traceback.\n"
     ]
    },
    {
     "data": {
      "text/html": [
       "\n",
       "<style>\n",
       ".button {\n",
       "  border: none;\n",
       "  color: white;\n",
       "  padding: 4px 8px;\n",
       "  text-align: center;\n",
       "  text-decoration: none;\n",
       "  display: inline-block;\n",
       "  font-size: 12px;\n",
       "  margin: 4px 2px;\n",
       "  transition-duration: 0.2s;\n",
       "  cursor: pointer;\n",
       "}\n",
       ".iqx-button {\n",
       "  background-color: #0f62fe; \n",
       "  color: white; \n",
       "}\n",
       ".iqx-button:hover {\n",
       "  background-color: #0043ce;\n",
       "  color: white;\n",
       "}\n",
       "</style>\n",
       "<a href=\"https://stackoverflow.com/search?q=NameError: name 'circ_list' is not defined\" target='_blank'><button class='button iqx-button'>Search for solution online</button></a>\n"
      ],
      "text/plain": [
       "<IPython.core.display.HTML object>"
      ]
     },
     "metadata": {},
     "output_type": "display_data"
    }
   ],
   "source": [
    "back = Aer.get_backend('statevector_simulator')\n",
    "results = execute(circ_list, backend=back).result()\n",
    "sv_h = results.get_statevector(qc_h)\n",
    "sv_v = results.get_statevector(qc_v)"
   ]
  },
  {
   "cell_type": "code",
   "execution_count": 6,
   "id": "32780304-1e86-4005-809e-54235e17d510",
   "metadata": {},
   "outputs": [
    {
     "name": "stdout",
     "output_type": "stream",
     "text": [
      "Traceback \u001b[1;36m(most recent call last)\u001b[0m:\n",
      "\u001b[1;36m  Input \u001b[1;32mIn [6]\u001b[1;36m in \u001b[1;35m<cell line: 3>\u001b[1;36m\u001b[0m\n",
      "\u001b[1;33m    edge_scan_h = np.abs(np.array([1 if threshold(sv_h[2*i+1].real) else 0 for i in range(2**data_qb)])).reshape(w, w)\u001b[0m\n",
      "\u001b[1;31mNameError\u001b[0m\u001b[1;31m:\u001b[0m name 'data_qb' is not defined\n",
      "\n",
      "Use %tb to get the full traceback.\n"
     ]
    },
    {
     "data": {
      "text/html": [
       "\n",
       "<style>\n",
       ".button {\n",
       "  border: none;\n",
       "  color: white;\n",
       "  padding: 4px 8px;\n",
       "  text-align: center;\n",
       "  text-decoration: none;\n",
       "  display: inline-block;\n",
       "  font-size: 12px;\n",
       "  margin: 4px 2px;\n",
       "  transition-duration: 0.2s;\n",
       "  cursor: pointer;\n",
       "}\n",
       ".iqx-button {\n",
       "  background-color: #0f62fe; \n",
       "  color: white; \n",
       "}\n",
       ".iqx-button:hover {\n",
       "  background-color: #0043ce;\n",
       "  color: white;\n",
       "}\n",
       "</style>\n",
       "<a href=\"https://stackoverflow.com/search?q=NameError: name 'data_qb' is not defined\" target='_blank'><button class='button iqx-button'>Search for solution online</button></a>\n"
      ],
      "text/plain": [
       "<IPython.core.display.HTML object>"
      ]
     },
     "metadata": {},
     "output_type": "display_data"
    }
   ],
   "source": [
    "threshold = lambda amp: (amp > 1e-15 or amp < -1e-15)\n",
    "\n",
    "edge_scan_h = np.abs(np.array([1 if threshold(sv_h[2*i+1].real) else 0 for i in range(2**data_qb)])).reshape(w, w)\n",
    "edge_scan_v = np.abs(np.array([1 if threshold(sv_v[2*i+1].real) else 0 for i in range(2**data_qb)])).reshape(w, w).T\n",
    "\n",
    "\n",
    "plot_image(edge_scan_h, 'horizontal scan output')\n",
    "plot_image(edge_scan_v, 'vertical scan output')"
   ]
  },
  {
   "cell_type": "code",
   "execution_count": 5,
   "id": "138b01fa-3db0-4410-b3c4-ec79ad1e672c",
   "metadata": {},
   "outputs": [
    {
     "name": "stdout",
     "output_type": "stream",
     "text": [
      "Traceback \u001b[1;36m(most recent call last)\u001b[0m:\n",
      "\u001b[1;36m  Input \u001b[1;32mIn [5]\u001b[1;36m in \u001b[1;35m<cell line: 1>\u001b[1;36m\u001b[0m\n",
      "\u001b[1;33m    edge_scan_sim = edge_scan_h | edge_scan_v\u001b[0m\n",
      "\u001b[1;31mNameError\u001b[0m\u001b[1;31m:\u001b[0m name 'edge_scan_h' is not defined\n",
      "\n",
      "Use %tb to get the full traceback.\n"
     ]
    },
    {
     "data": {
      "text/html": [
       "\n",
       "<style>\n",
       ".button {\n",
       "  border: none;\n",
       "  color: white;\n",
       "  padding: 4px 8px;\n",
       "  text-align: center;\n",
       "  text-decoration: none;\n",
       "  display: inline-block;\n",
       "  font-size: 12px;\n",
       "  margin: 4px 2px;\n",
       "  transition-duration: 0.2s;\n",
       "  cursor: pointer;\n",
       "}\n",
       ".iqx-button {\n",
       "  background-color: #0f62fe; \n",
       "  color: white; \n",
       "}\n",
       ".iqx-button:hover {\n",
       "  background-color: #0043ce;\n",
       "  color: white;\n",
       "}\n",
       "</style>\n",
       "<a href=\"https://stackoverflow.com/search?q=NameError: name 'edge_scan_h' is not defined\" target='_blank'><button class='button iqx-button'>Search for solution online</button></a>\n"
      ],
      "text/plain": [
       "<IPython.core.display.HTML object>"
      ]
     },
     "metadata": {},
     "output_type": "display_data"
    }
   ],
   "source": [
    "edge_scan_sim = edge_scan_h | edge_scan_v"
   ]
  },
  {
   "cell_type": "code",
   "execution_count": 81,
   "id": "ef012ea1-ac2c-444a-a117-3ecca1cbd6fd",
   "metadata": {},
   "outputs": [
    {
     "name": "stderr",
     "output_type": "stream",
     "text": [
      "/tmp/ipykernel_59/462864708.py:13: RuntimeWarning: invalid value encountered in double_scalars\n",
      "  image_norm.append(ele / rms)\n"
     ]
    }
   ],
   "source": []
  },
  {
   "cell_type": "code",
   "execution_count": null,
   "id": "2337d2c0-3a5f-4e8f-8534-be031b175b04",
   "metadata": {},
   "outputs": [],
   "source": []
  }
 ],
 "metadata": {
  "kernelspec": {
   "display_name": "Python 3 (ipykernel)",
   "language": "python",
   "name": "python3"
  },
  "language_info": {
   "codemirror_mode": {
    "name": "ipython",
    "version": 3
   },
   "file_extension": ".py",
   "mimetype": "text/x-python",
   "name": "python",
   "nbconvert_exporter": "python",
   "pygments_lexer": "ipython3",
   "version": "3.8.13"
  },
  "widgets": {
   "application/vnd.jupyter.widget-state+json": {
    "state": {},
    "version_major": 2,
    "version_minor": 0
   }
  }
 },
 "nbformat": 4,
 "nbformat_minor": 5
}
