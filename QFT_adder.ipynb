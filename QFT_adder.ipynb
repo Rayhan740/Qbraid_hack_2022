{
 "cells": [
  {
   "cell_type": "code",
   "execution_count": 17,
   "id": "mediterranean-disability",
   "metadata": {},
   "outputs": [],
   "source": [
    "from qiskit import Aer, assemble, QuantumCircuit, QuantumRegister, ClassicalRegister\n",
    "from qiskit.visualization import plot_histogram\n",
    "from qiskit.quantum_info import Statevector\n",
    "from numpy import sqrt, pi"
   ]
  },
  {
   "cell_type": "code",
   "execution_count": 20,
   "id": "vital-rebecca",
   "metadata": {},
   "outputs": [],
   "source": [
    "def createInputState(qc, reg, n):\n",
    "    qc.barrier()\n",
    "    qc.h(reg[n])\n",
    "    for i in range(n):\n",
    "        qc.cp(pi/(2**(i+1)), reg[n-(i+1)], reg[n])\n",
    "\n",
    "def evolveQFTstate(qc, reg_a, reg_b, n):\n",
    "    for i in range(n+1):\n",
    "        qc.cp(pi/(2**(i)), reg_b[n-i], reg_a[n])\n",
    "        \n",
    "def inverseQFT(qc, reg, n):\n",
    "    for i in range(n):\n",
    "        qc.cp(-pi/(2**(n-i)), reg[i], reg[n])\n",
    "    qc.h(reg[n])\n",
    "\n",
    "def add(first, second, n):\n",
    "    a = QuantumRegister(n+1, \"a\")\n",
    "    b = QuantumRegister(n+1, \"b\")\n",
    "    cl = ClassicalRegister(n+1, \"cl\")\n",
    "    qc = QuantumCircuit(a, b, cl, name=\"qc\")\n",
    "    for i in range(n):\n",
    "        if first[i] == '1':\n",
    "            qc.x(a[n-(i+1)])\n",
    "    for i in range(n):\n",
    "        if second[i] == '1':\n",
    "            qc.x(b[n-(i+1)])\n",
    "    \n",
    "    for i in range(n+1):\n",
    "        createInputState(qc, a, n-i)\n",
    "    for i in range(n+1):\n",
    "        evolveQFTstate(qc, a, b, n-i)\n",
    "    for i in range(n+1):\n",
    "        inverseQFT(qc, a, i)\n",
    "    \n",
    "    for i in range(n+1):\n",
    "        qc.measure(a[i], cl[i])\n",
    "        \n",
    "    sim = Aer.get_backend('aer_simulator')\n",
    "    result = sim.run(assemble(qc)).result().get_counts()\n",
    "    return result"
   ]
  },
  {
   "cell_type": "code",
   "execution_count": 22,
   "id": "noted-sussex",
   "metadata": {},
   "outputs": [
    {
     "name": "stdout",
     "output_type": "stream",
     "text": [
      "4\n",
      "5\n",
      "{'0000001001': 1024}\n"
     ]
    }
   ],
   "source": [
    "first = bin(int(input()))\n",
    "second = bin(int(input()))\n",
    "\n",
    "first, second = first[2:], second[2:]\n",
    "first, second = first.zfill(9), second.zfill(9)\n",
    "\n",
    "n = len(first)\n",
    "result = add(first, second, n)\n",
    "print(result)"
   ]
  },
  {
   "cell_type": "code",
   "execution_count": null,
   "id": "unique-exhibit",
   "metadata": {},
   "outputs": [],
   "source": []
  }
 ],
 "metadata": {
  "kernelspec": {
   "display_name": "Python 3 (ipykernel)",
   "language": "python",
   "name": "python3"
  },
  "language_info": {
   "codemirror_mode": {
    "name": "ipython",
    "version": 3
   },
   "file_extension": ".py",
   "mimetype": "text/x-python",
   "name": "python",
   "nbconvert_exporter": "python",
   "pygments_lexer": "ipython3",
   "version": "3.8.13"
  },
  "widgets": {
   "application/vnd.jupyter.widget-state+json": {
    "state": {},
    "version_major": 2,
    "version_minor": 0
   }
  }
 },
 "nbformat": 4,
 "nbformat_minor": 5
}
