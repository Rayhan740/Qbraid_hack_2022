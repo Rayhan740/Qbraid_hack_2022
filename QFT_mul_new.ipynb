{
 "cells": [
  {
   "cell_type": "code",
   "execution_count": 6,
   "id": "crucial-alloy",
   "metadata": {},
   "outputs": [],
   "source": [
    "from qiskit import QuantumRegister, QuantumCircuit, ClassicalRegister\n",
    "from qiskit import Aer, execute\n",
    "from math import pi"
   ]
  },
  {
   "cell_type": "code",
   "execution_count": 7,
   "id": "sonic-sydney",
   "metadata": {},
   "outputs": [
    {
     "name": "stdin",
     "output_type": "stream",
     "text": [
      "Enter the multiplicand. 10\n",
      "Enter the multiplier. 11\n"
     ]
    },
    {
     "name": "stdout",
     "output_type": "stream",
     "text": [
      "{'01101110': 100}\n"
     ]
    }
   ],
   "source": [
    "def rotations(qc, reg, n):\n",
    "    qc.barrier()\n",
    "    qc.h(reg[n])\n",
    "    for i in range(n):\n",
    "        qc.cp(pi/(2**(i+1)), reg[n-(i+1)], reg[n])\n",
    "\n",
    "def QFT(qc, reg, n):\n",
    "    for i in range(n+1):\n",
    "        rotations(qc, reg, n-i)\n",
    "\n",
    "def addition_state(qc, reg_a, reg_b, n, factor):\n",
    "    l = len(reg_b)\n",
    "    for i in range(n+1):\n",
    "        if (n-i) > l-1:\n",
    "            pass\n",
    "        else:\n",
    "            qc.cp((factor*pi) / (2**i), reg_b[n-i], reg_a[n])\n",
    "            \n",
    "def bit_addition(qc, reg_a, reg_b, n, factor):\n",
    "    for i in range(n+1):\n",
    "        addition_state(qc, reg_a, reg_b, n-i, factor)\n",
    "        \n",
    "def inverseQFTrotations(qc, reg, n):\n",
    "    for i in range(n):\n",
    "        qc.cp(-pi/(2**(n-i)), reg[i], reg[n])\n",
    "    qc.h(reg[n])\n",
    "\n",
    "def inverseQFT(qc, reg, n):\n",
    "    for i in range(n+1):\n",
    "        inverseQFTrotations(qc, reg, i)\n",
    "        \n",
    "def add(reg_a, reg_b, qc, factor):\n",
    "    n = len(reg_a)-1\n",
    "    \n",
    "    QFT(qc, reg_a, n)\n",
    "    bit_addition(qc, reg_a, reg_b, n, factor)\n",
    "    inverseQFT(qc, reg_a, n)\n",
    "\n",
    "multiplicand_in = bin(int(input(\"Enter the multiplicand.\")))\n",
    "multiplicand_in = multiplicand_in[2:]\n",
    "l1 = len(multiplicand_in)\n",
    "multiplier_in = bin(int(input(\"Enter the multiplier.\")))\n",
    "multiplier_in = multiplier_in[2:]\n",
    "l2 = len(multiplier_in)\n",
    "\n",
    "if l2 > l1:\n",
    "    multiplier_in, multiplicand_in = multiplicand_in, multiplier_in\n",
    "    l2, l1 = l1, l2\n",
    "\n",
    "multiplicand = QuantumRegister(l1)\n",
    "multiplier = QuantumRegister(l2)\n",
    "accumulator = QuantumRegister(l1 + l2)\n",
    "cl = ClassicalRegister(l1 + l2)\n",
    "d = QuantumRegister(1)\n",
    "\n",
    "circ = QuantumCircuit(accumulator, multiplier, multiplicand,\n",
    "    d, cl, name=\"qc\")\n",
    "\n",
    "circ.x(d)\n",
    "# Store bit strings in quantum registers\n",
    "for i in range(l1):\n",
    "    if multiplicand_in[i] == '1':\n",
    "        circ.x(multiplicand[l1 - i - 1])\n",
    "\n",
    "for i in range(l2):\n",
    "    if multiplier_in[i] == '1':\n",
    "        circ.x(multiplier[l1 - i - 1])\n",
    "\n",
    "multiplier_str = '1'\n",
    "# Perform repeated addition until the multiplier\n",
    "# is zero\n",
    "while(int(multiplier_str) != 0):\n",
    "    add(accumulator, multiplicand, circ, 1)\n",
    "    add(multiplier, d, circ, -1)\n",
    "    for i in range(len(multiplier)):\n",
    "        circ.measure(multiplier[i], cl[i])\n",
    "    result = execute(circ, backend=Aer.get_backend('qasm_simulator'),\n",
    "                    shots=2).result().get_counts(circ.name)\n",
    "    multiplier_str = list(result.keys())[0]\n",
    "\n",
    "circ.measure(accumulator, cl)\n",
    "result = execute(circ, backend=Aer.get_backend('qasm_simulator'),\n",
    "            shots=100).result().get_counts(circ.name)\n",
    "\n",
    "print(result)"
   ]
  },
  {
   "cell_type": "code",
   "execution_count": null,
   "id": "reasonable-clone",
   "metadata": {},
   "outputs": [],
   "source": []
  }
 ],
 "metadata": {
  "kernelspec": {
   "display_name": "Python 3 (ipykernel)",
   "language": "python",
   "name": "python3"
  },
  "language_info": {
   "codemirror_mode": {
    "name": "ipython",
    "version": 3
   },
   "file_extension": ".py",
   "mimetype": "text/x-python",
   "name": "python",
   "nbconvert_exporter": "python",
   "pygments_lexer": "ipython3",
   "version": "3.8.13"
  },
  "widgets": {
   "application/vnd.jupyter.widget-state+json": {
    "state": {},
    "version_major": 2,
    "version_minor": 0
   }
  }
 },
 "nbformat": 4,
 "nbformat_minor": 5
}
